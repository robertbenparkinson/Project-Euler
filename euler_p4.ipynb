{
 "cells": [
  {
   "cell_type": "markdown",
   "metadata": {
    "collapsed": true,
    "pycharm": {
     "name": "#%% md\n"
    }
   },
   "source": [
    "# Project Euler Question Four\n",
    "\n",
    "```python\n",
    "l = 0\n",
    "\n",
    "for i in range(100, 1000):\n",
    "    for j in range(100, 1000):\n",
    "        x = i * j\n",
    "        \n",
    "        xs = str(x)\n",
    "        xi = xs[::-1]\n",
    "        \n",
    "        if xs == xi:\n",
    "            print(xs + \" is a palindrome!\")\n",
    "            \n",
    "            if x > l:\n",
    "                l = x\n",
    "\n",
    "print(\"The Largest Palindrome is: \" + str(l))\n",
    "```\n",
    "\n",
    "## Notes\n",
    "The reverse string trick in Python was quite helpful.\n",
    "\n",
    "```python\n",
    "txt = \"hello\"\n",
    "print(txt)\n",
    ">>> \"hello\"\n",
    "\n",
    "print(txt[::-1])\n",
    ">>> \"olleh\"\n",
    "\n",
    "```"
   ]
  }
 ],
 "metadata": {
  "language_info": {
   "codemirror_mode": {
    "name": "ipython",
    "version": 2
   },
   "file_extension": ".py",
   "mimetype": "text/x-python",
   "name": "python",
   "nbconvert_exporter": "python",
   "pygments_lexer": "ipython2",
   "version": "2.7.6"
  },
  "kernelspec": {
   "name": "python3",
   "language": "python",
   "display_name": "Python 3"
  },
  "pycharm": {
   "stem_cell": {
    "cell_type": "raw",
    "source": [],
    "metadata": {
     "collapsed": false
    }
   }
  }
 },
 "nbformat": 4,
 "nbformat_minor": 0
}