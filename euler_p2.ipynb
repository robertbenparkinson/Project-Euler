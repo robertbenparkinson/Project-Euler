{
 "cells": [
  {
   "cell_type": "markdown",
   "metadata": {
    "collapsed": true,
    "pycharm": {
     "name": "#%% md\n"
    }
   },
   "source": [
    "# Project Euler Problem 2\n"
   ]
  },
  {
   "cell_type": "markdown",
   "source": [
    "```python\n",
    "x = [1, 2]\n",
    "\n",
    "while x[len(x)-1] < 4000000:\n",
    "    x.append(x[len(x)-1]+x[len(x)-2]) \n",
    "\n",
    "x.pop()\n",
    "\n",
    "s = 0\n",
    "\n",
    "for i in x:\n",
    "    if i%2 == 0:\n",
    "        s = s+i\n",
    "print(s)        \n",
    "```\n"
   ],
   "metadata": {
    "collapsed": false,
    "pycharm": {
     "name": "#%% md\n",
     "is_executing": false
    }
   }
  }
 ],
 "metadata": {
  "language_info": {
   "codemirror_mode": {
    "name": "ipython",
    "version": 2
   },
   "file_extension": ".py",
   "mimetype": "text/x-python",
   "name": "python",
   "nbconvert_exporter": "python",
   "pygments_lexer": "ipython2",
   "version": "2.7.6"
  },
  "kernelspec": {
   "name": "python3",
   "language": "python",
   "display_name": "Python 3"
  },
  "pycharm": {
   "stem_cell": {
    "cell_type": "raw",
    "source": [],
    "metadata": {
     "collapsed": false
    }
   }
  }
 },
 "nbformat": 4,
 "nbformat_minor": 0
}