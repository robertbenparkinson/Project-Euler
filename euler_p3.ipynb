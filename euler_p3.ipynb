{
 "cells": [
  {
   "cell_type": "markdown",
   "source": [
    "# Project Euler Problem 3\n",
    "\n",
    "I had to break this problem into two parts. \n",
    "First I needed to generate a list of primes numbers, \n",
    "and then I used that list to factor the huge 600851475143. \n",
    "\n",
    "## Prime number \n",
    "I used the code below to get all of the prime numbers found up to 1 million.\n",
    "I used list comprehensions in the hope the it would speed up the process, but it was still a little slow.\n",
    "\n",
    "            "
   ],
   "metadata": {
    "collapsed": false,
    "pycharm": {
     "name": "#%% md\n"
    }
   }
  },
  {
   "cell_type": "markdown",
   "source": [
    "```python\n",
    "n = 1000000\n",
    "\n",
    "primes = [2]\n",
    "lst = [x for x in range(2,n+1) if x%primes[0] != 0]\n",
    "\n",
    "while len(lst) > 0:\n",
    "\n",
    "    primes.append(lst[0])\n",
    "    lst = [x for x in lst if x%lst[0] != 0]\n",
    "    \n",
    "```"
   ],
   "metadata": {
    "collapsed": false,
    "pycharm": {
     "name": "#%% md\n",
     "is_executing": false
    }
   }
  },
  {
   "cell_type": "markdown",
   "source": [
    "## primes.txt\n",
    "I saved the list of the first 78498 prime numbers in a seperate text file.\n",
    "\n",
    "### Export Code\n",
    "```python\n",
    "# Export Code\n",
    "with open('primes.txt', 'w') as file:\n",
    "    file.write(str(primes))\n",
    "```\n",
    "\n",
    "### Import Code\n",
    "```python\n",
    "with open(\"primes.txt\", \"r\") as file:\n",
    "    primes = eval(file.readline())\n",
    "```\n",
    "\n",
    "## Largest Prime\n",
    "After all of that work I can finally solve the problem using the simple code below.\n",
    "\n",
    "```python\n",
    "n = 600851475143\n",
    "# n = 87625999\n",
    "\n",
    "for i in primes:\n",
    "    if n%i == 0:              \n",
    "        print(\"Prime Factors: \" + str(i))\n",
    "```\n"
   ],
   "metadata": {
    "collapsed": false,
    "pycharm": {
     "name": "#%% md\n",
     "is_executing": false
    }
   }
  }
 ],
 "metadata": {
  "language_info": {
   "codemirror_mode": {
    "name": "ipython",
    "version": 2
   },
   "file_extension": ".py",
   "mimetype": "text/x-python",
   "name": "python",
   "nbconvert_exporter": "python",
   "pygments_lexer": "ipython2",
   "version": "2.7.6"
  },
  "kernelspec": {
   "name": "python3",
   "language": "python",
   "display_name": "Python 3"
  },
  "pycharm": {
   "stem_cell": {
    "cell_type": "raw",
    "source": [],
    "metadata": {
     "collapsed": false
    }
   }
  }
 },
 "nbformat": 4,
 "nbformat_minor": 0
}