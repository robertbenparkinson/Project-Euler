{
 "cells": [
  {
   "cell_type": "markdown",
   "metadata": {
    "collapsed": true,
    "pycharm": {
     "name": "#%% md\n"
    }
   },
   "source": [
    "# Project Euler Question 5\n",
    "\n",
    "Cute problem. My first instinct was too loop through ever possible digit \n",
    "until I found a number that was equally divisible by 1-20.\n",
    "However I knew that this was a trick. \n",
    "\n",
    "## Z \n",
    "I knew that the number would have to be a multiple of \n",
    "the product of the first eight prime numbers found between 2 and 20.\n",
    "This gave me 9699690. From there I just checked until I found the smallest number that met the requirement.\n",
    "\n",
    "```python\n",
    "z = 2*3*5*7*11*13*17*19\n",
    "\n",
    "i = 1 \n",
    "stop = False\n",
    "\n",
    "while stop == False: \n",
    "    \n",
    "    x = []\n",
    "    \n",
    "    for j in range(2,21):\n",
    "                        \n",
    "        if (z*i)%j == 0:\n",
    "            x.append(True)\n",
    "        else:\n",
    "            x.append(False)\n",
    "            \n",
    "    if False in x:\n",
    "        i = i + 1\n",
    "    \n",
    "    else:\n",
    "        stop = True\n",
    "        print(\"Number is: \" + str(z*i))\n",
    "```\n"
   ]
  }
 ],
 "metadata": {
  "language_info": {
   "codemirror_mode": {
    "name": "ipython",
    "version": 2
   },
   "file_extension": ".py",
   "mimetype": "text/x-python",
   "name": "python",
   "nbconvert_exporter": "python",
   "pygments_lexer": "ipython2",
   "version": "2.7.6"
  },
  "kernelspec": {
   "name": "python3",
   "language": "python",
   "display_name": "Python 3"
  },
  "pycharm": {
   "stem_cell": {
    "cell_type": "raw",
    "source": [],
    "metadata": {
     "collapsed": false
    }
   }
  }
 },
 "nbformat": 4,
 "nbformat_minor": 0
}